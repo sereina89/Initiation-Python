{
 "metadata": {
  "language_info": {
   "codemirror_mode": {
    "name": "ipython",
    "version": 3
   },
   "file_extension": ".py",
   "mimetype": "text/x-python",
   "name": "python",
   "nbconvert_exporter": "python",
   "pygments_lexer": "ipython3",
   "version": "3.8.5"
  },
  "orig_nbformat": 2,
  "kernelspec": {
   "name": "python3",
   "display_name": "Python 3.8.5 64-bit ('base': conda)"
  },
  "interpreter": {
   "hash": "208876dcf9cc343f9e531c1c515db77d60ee24d4da368526df9d5cfa732951b1"
  }
 },
 "nbformat": 4,
 "nbformat_minor": 2,
 "cells": [
  {
   "cell_type": "markdown",
   "source": [
    "<BLOCKQUOTE id=\"Utilisation\" style='background-color:#227C99;'>\n",
    "<br /> \n",
    "<h1 style=\"color:#FFFFFF; font-size: 40px\"> Algorithmique - Utilisation de Python </h1>\n",
    "<br /> \n",
    "</BLOCKQUOTE>\n",
    "\n",
    "\n",
    "\n",
    "### Sommaire\n",
    "\n",
    "<ol>\n",
    "    <li><a href=\"#Utilisation\">Utilisation ce Jupyter Notebook</a></li>\n",
    "    <li><a href=\"#Python\">Le langage Python</a></li>\n",
    "    <li><a href=\"#Variables\">Variables et affectation</a></li>\n",
    "    <li><a href=\"#Calculs\">Calculs numériques</a></li>\n",
    "    <li><a href=\"#Tests\">Tests</a></li>\n",
    "    <li><a href=\"#Boucles\">Les boucles</a></li>\n",
    "    <li><a href=\"#Fonctions\">Les fonctions</a></li>\n",
    "    <li><a href=\"#Listes\">Gestion des listes</a></li>\n",
    "</ol>\n",
    "\n",
    "\n",
    "<BLOCKQUOTE id=\"Utilisation\" style='background-color:#DF8E21;'>\n",
    "\n",
    "<h1 style=\"color:#FFFFFF; font-size: 20px\"> 1. Utilisation ce Jupyter Notebook </h1>\n",
    "\n",
    "</BLOCKQUOTE>\n",
    "\n",
    "\n",
    "Jupyter Notebook est un outil permettant d’écrire du code informatique et de l'expliquer, à la façon d'un bloc notes. \n",
    "Avec cet outil, il est possible de visualiser le code et de l’exécuter depuis la même interface utilisateur. On peut même apporter des changements au code et vérifier les résultats de ces modifications instantanément. \n",
    "\n",
    "Par exemple, pour exécuter la ligne de code ci-dessous : sélectionner la cellule et tapez simultanément sur shift + entrée (shift : touche pour obtenir les majuscules)"
   ],
   "metadata": {}
  },
  {
   "cell_type": "code",
   "execution_count": null,
   "source": [
    "print(\"Hello world\")"
   ],
   "outputs": [],
   "metadata": {}
  },
  {
   "cell_type": "markdown",
   "source": [
    "Vous pouvez naviguer entre les cellules en utilisant les flèches haut et bas du clavier"
   ],
   "metadata": {}
  },
  {
   "cell_type": "markdown",
   "source": [
    "<BLOCKQUOTE id = \"Python\" style='background-color:#DF8E21;'>\n",
    "\n",
    "<h1 style=\"color:#FFFFFF; font-size: 20px\"> 2. Le langage Python </h1>\n",
    "\n",
    "</BLOCKQUOTE>\n",
    "\n",
    "\n",
    "Python est un langage de programmation qui peut s'utiliser dans de nombreux contextes et s'adapter à tout type d'utilisation grâce à des bibliothèques spécialisées.\n",
    "\n",
    "Il a été inventé à la fin  des années 1980 par le programmeur Guido van Rossum. Fan de la série télévisée Monty Python's Flying Circus, il décide de baptiser ce projet Python.\n",
    "\n",
    "<BLOCKQUOTE style='background-color:#FFECCD;'>\n",
    "\n",
    "<h2 style=\"color:#DF8E21; font-size: 18px\"> De Scratch à Python sur un exemple </h2>\n",
    "\n",
    "</BLOCKQUOTE>\n",
    "\n",
    "Selon la légende, pour remercier l'inventeur des échecs, Sissa, le roi lui demanda de choisir sa récompense. Sissa demanda alors du riz : un grain sur la première case, deux grains sur la seconde case, quatre grains sur la troisième case, huit grains sur la quatrième, et ainsi de suite jusqu'à la dernière case du jeu d'échec. Le roi accepta.\n",
    "\n",
    "On se demande combien de grains seront posés sur la dernière case du plateau d'échecs (qui en compte 64).\n",
    "\n",
    "Pour résoudre ce problème avec Scratch, on peut utiliser le programme suivant :\n",
    "\n",
    "![Image](https://github.com/sereina89/Initiation-Python/blob/main/riz-scratch.png)\n",
    "\n",
    "En Python ce programme s'écrira de la manière suivante :\n",
    "\n"
   ],
   "metadata": {}
  },
  {
   "cell_type": "code",
   "execution_count": null,
   "source": [
    "grains = 1\n",
    "\n",
    "for compteur in range(63):\n",
    "    grains = 2 * grains\n",
    "\n",
    "print(\"Nombre de grains sur la dernière case :\", grains)"
   ],
   "outputs": [],
   "metadata": {}
  },
  {
   "cell_type": "markdown",
   "source": [
    "<BLOCKQUOTE id=\"Variables\" style='background-color:#DF8E21;'>\n",
    "\n",
    "<h1 style=\"color:#FFFFFF; font-size: 20px\"> 3. Variables et affectation </h1>\n",
    "\n",
    "</BLOCKQUOTE>\n",
    "\n",
    "\n",
    "\n",
    "Dans un programme informatique, on va avoir en permanence besoin de stocker provisoirement des valeurs. Il peut s’agir de données issues du disque dur, fournies par l’utilisateur (frappées au clavier)... Il peut aussi s’agir de résultats obtenus par le programme, intermédiaires ou définitifs. Ces données peuvent être de plusieurs types (on en reparlera) : elles peuvent être des nombres, du texte, etc. Toujours est-il que dès que l’on a besoin de stocker une information au cours d’un programme, on utilise une variable.\n",
    "\n",
    "Pour employer une image, une variable est une boîte, que le programme (l’ordinateur) va repérer par une étiquette. Pour avoir accès au contenu de la boîte, il suffit de la désigner par son étiquette.\n",
    "\n",
    "\n",
    "### Exemple :\n",
    "\n",
    "On considère l’algorithme en langage *naturel* (on parle également de *pseudo-code*) suivant (la flèche `←` est un symbole d'affectation ; elle veut dire \"prend la valeur\")\n",
    "\n",
    "    x ← 2\n",
    "    y ← 3\n",
    "    z ← x+y\n",
    "    afficher z\n",
    "\n",
    "En langage Scratch, cet algorithme devient :\n",
    "\n",
    "![Image](https://github.com/sereina89/Initiation-Python/blob/main/variable-scratch.png)\n",
    "\n",
    "Quelle est la valeur affichée par cet algorithme ? Vérifier votre réponse en exécutant le programme en Python ci-dessous :"
   ],
   "metadata": {}
  },
  {
   "cell_type": "code",
   "execution_count": null,
   "source": [
    "x = 2\n",
    "y = 3\n",
    "z = x + y\n",
    "print(z)"
   ],
   "outputs": [],
   "metadata": {
    "tags": []
   }
  },
  {
   "cell_type": "markdown",
   "source": [
    "Comme vous l'avez remarqué, l'instruction d'affectation en Python se fait avec le signe ="
   ],
   "metadata": {}
  },
  {
   "cell_type": "markdown",
   "source": [
    "### Exemple :\n",
    "\n",
    "Quelle sera la valeur de la variable C affichée après l'exécution du code ci-dessous ?\n",
    "\n",
    "    A ← 5\n",
    "    B ← 3\n",
    "    C ← A + B\n",
    "    A ← 2\n",
    "    C ← B – A\n",
    "    \n",
    "Vérifier votre réponse en exécutant le programme en Python ci-dessous :"
   ],
   "metadata": {}
  },
  {
   "cell_type": "code",
   "execution_count": null,
   "source": [
    "A = 5\n",
    "B = 3\n",
    "C = A+B\n",
    "A = 2\n",
    "C = B-A\n",
    "print(C)"
   ],
   "outputs": [],
   "metadata": {
    "tags": []
   }
  },
  {
   "cell_type": "markdown",
   "source": [
    "### Exemple :\n",
    "\n",
    "Quelle sera la valeur de la variable B affichée après l'exécution du code ci-dessous ?\n",
    "    \n",
    "    A ← 5\n",
    "    B ← A + 4\n",
    "    A ← A + 1\n",
    "    B ← A – 4\n",
    "\n",
    "Vérifier maintenant votre réponse en complétant et exécutant le code Python ci-dessous :"
   ],
   "metadata": {}
  },
  {
   "cell_type": "code",
   "execution_count": null,
   "source": [
    "A = 5\n",
    "B = A+4\n",
    "A=A+1\n",
    "B=A-5\n",
    "print(B)"
   ],
   "outputs": [],
   "metadata": {}
  },
  {
   "cell_type": "markdown",
   "source": [
    "<BLOCKQUOTE id = \"Calculs\" style='background-color:#DF8E21;'>\n",
    "<h1 style=\"color:#FFFFFF; font-size: 20px\"> 4. Calculs numériques </h1>\n",
    "</BLOCKQUOTE>\n",
    "\n",
    " <br /> \n",
    "\n",
    "<BLOCKQUOTE style='background-color:#FFECCD;'>\n",
    "\n",
    "<h2 style=\"color:#DF8E21; font-size: 18px\"> Deux types de nombres </h2>\n",
    "\n",
    "</BLOCKQUOTE>\n",
    "\n",
    "Dans le langage Python, deux types de nombres sont couramment utilisés : les nombres entiers, et les nombres décimaux.\n",
    "\n",
    "#### 1. Entiers (integer en anglais)\n"
   ],
   "metadata": {}
  },
  {
   "cell_type": "code",
   "execution_count": null,
   "source": [
    "# L'instruction Type renvoie le type du nombre\n",
    "type(17)"
   ],
   "outputs": [],
   "metadata": {}
  },
  {
   "cell_type": "markdown",
   "source": [
    "#### 2. Nombres décimaux (Float : Floating point)"
   ],
   "metadata": {}
  },
  {
   "cell_type": "code",
   "execution_count": null,
   "source": [
    "type(17.4)"
   ],
   "outputs": [],
   "metadata": {}
  },
  {
   "cell_type": "markdown",
   "source": [
    "Attention les résultats peuvent être surprenants !"
   ],
   "metadata": {}
  },
  {
   "cell_type": "code",
   "execution_count": null,
   "source": [
    "type(6-3)"
   ],
   "outputs": [],
   "metadata": {}
  },
  {
   "cell_type": "code",
   "execution_count": null,
   "source": [
    "type(6/2)"
   ],
   "outputs": [],
   "metadata": {}
  },
  {
   "cell_type": "markdown",
   "source": [
    "<BLOCKQUOTE style='background-color:#FFECCD;'>\n",
    "\n",
    "<h2 style=\"color:#DF8E21; font-size: 18px\"> Opérations usuelles </h2>\n",
    "\n",
    "</BLOCKQUOTE>\n",
    "\n",
    "\n",
    "Exécuter les codes ci-dessous, et comprendre le résultat affiché "
   ],
   "metadata": {}
  },
  {
   "cell_type": "code",
   "execution_count": null,
   "source": [
    "x = 9\n",
    "x + 2"
   ],
   "outputs": [],
   "metadata": {}
  },
  {
   "cell_type": "code",
   "execution_count": null,
   "source": [
    "x * 3"
   ],
   "outputs": [],
   "metadata": {}
  },
  {
   "cell_type": "code",
   "execution_count": null,
   "source": [
    "y=8\n",
    "(x*10)+y"
   ],
   "outputs": [],
   "metadata": {}
  },
  {
   "cell_type": "markdown",
   "source": [
    "La division se fait avec l'opérateur / "
   ],
   "metadata": {}
  },
  {
   "cell_type": "code",
   "execution_count": null,
   "source": [
    "3/4"
   ],
   "outputs": [],
   "metadata": {}
  },
  {
   "cell_type": "markdown",
   "source": [
    " Contrairement aux opérateurs +, - et *, celui-ci renvoie systématiquement un \"float\" (disons : un nombre à virgule) et non pas un entier :\n"
   ],
   "metadata": {}
  },
  {
   "cell_type": "code",
   "execution_count": null,
   "source": [
    "6/2"
   ],
   "outputs": [],
   "metadata": {}
  },
  {
   "cell_type": "markdown",
   "source": [
    "A quoi voit-on que, dans la mémoire de l'ordinateur, la réponse n'est pas stockée comme un nombre entier ?"
   ],
   "metadata": {}
  },
  {
   "cell_type": "markdown",
   "source": [
    "L'opérateur puissance utilise les symboles ** :"
   ],
   "metadata": {}
  },
  {
   "cell_type": "code",
   "execution_count": null,
   "source": [
    "5**2"
   ],
   "outputs": [],
   "metadata": {}
  },
  {
   "cell_type": "markdown",
   "source": [
    "L'opérateur // donne la division entière :"
   ],
   "metadata": {}
  },
  {
   "cell_type": "code",
   "execution_count": null,
   "source": [
    "34//3"
   ],
   "outputs": [],
   "metadata": {}
  },
  {
   "cell_type": "markdown",
   "source": [
    "L'opérateur % donne le reste de la division :"
   ],
   "metadata": {}
  },
  {
   "cell_type": "code",
   "execution_count": null,
   "source": [
    "34%3"
   ],
   "outputs": [],
   "metadata": {}
  },
  {
   "cell_type": "markdown",
   "source": [
    "Pour utiliser les fonctions mathématiques, il faut commencer par importer le module math. "
   ],
   "metadata": {}
  },
  {
   "cell_type": "code",
   "execution_count": null,
   "source": [
    "import math"
   ],
   "outputs": [],
   "metadata": {}
  },
  {
   "cell_type": "markdown",
   "source": [
    "Par exemple pour afficher pi, on écrira :"
   ],
   "metadata": {}
  },
  {
   "cell_type": "code",
   "execution_count": null,
   "source": [
    "math.pi"
   ],
   "outputs": [],
   "metadata": {}
  },
  {
   "cell_type": "markdown",
   "source": [
    "On peut également utiliser la racine carrée :"
   ],
   "metadata": {}
  },
  {
   "cell_type": "code",
   "execution_count": null,
   "source": [
    "math.sqrt(2)"
   ],
   "outputs": [],
   "metadata": {}
  },
  {
   "cell_type": "markdown",
   "source": [
    "<BLOCKQUOTE id=\"Tests\" style='background-color:#DF8E21;'>\n",
    "\n",
    "<h1 style=\"color:#FFFFFF; font-size: 20px\"> 5. Tests </h1>\n",
    "\n",
    "</BLOCKQUOTE>\n",
    "\n",
    "\n",
    "Un programme informatique passe son temps à réaliser des tests de logique.\n",
    "\n",
    "\n",
    "<BLOCKQUOTE style='background-color:#FFECCD;'>\n",
    "\n",
    "<h2 style=\"color:#DF8E21; font-size: 18px\"> Booléens </h2>\n",
    "\n",
    "</BLOCKQUOTE>\n",
    "\n",
    "\n",
    "\n",
    "C'est la réponse à un test de logique.\n",
    "Un booléen est un type de variable à deux états :\n",
    "\n",
    "* Vrai (True) \n",
    "* Faux (False)\n",
    "\n",
    "\n",
    "<BLOCKQUOTE style='background-color:#FFECCD;'>\n",
    "\n",
    "<h2 style=\"color:#DF8E21; font-size: 18px\"> Opérations de comparaison </h2>\n",
    "\n",
    "</BLOCKQUOTE>\n",
    "\n",
    "\n",
    "Les tests avec des les plus courants sont :\n",
    "\n",
    "1. `==`  Comparaison :  \"Egal à\" (à ne pas confondre avec `=` qui correspond à une affectation)\n",
    "2. `!=`  \"Non égal à \"\n",
    "3. `>`  \"Plus grand que\"\n",
    "4. `<`  \"Plus petit que\"\n",
    "5. `<=`  \"Supérieur ou égal à\"\n",
    "6. `>=`  \"Inférieur ou égal à\""
   ],
   "metadata": {}
  },
  {
   "cell_type": "code",
   "execution_count": null,
   "source": [
    "100%2 == 0"
   ],
   "outputs": [],
   "metadata": {}
  },
  {
   "cell_type": "code",
   "execution_count": null,
   "source": [
    "# la variable a prend la valeur 3\n",
    "a=3"
   ],
   "outputs": [],
   "metadata": {}
  },
  {
   "cell_type": "code",
   "execution_count": null,
   "source": [
    "# Est-ce que a est égal à 3 ? (Bien comprendre la différence avec la ligne de code précédente)\n",
    "a==3"
   ],
   "outputs": [],
   "metadata": {}
  },
  {
   "cell_type": "code",
   "execution_count": null,
   "source": [
    "a>4"
   ],
   "outputs": [],
   "metadata": {}
  },
  {
   "cell_type": "code",
   "execution_count": null,
   "source": [
    "a>=3"
   ],
   "outputs": [],
   "metadata": {}
  },
  {
   "cell_type": "code",
   "execution_count": null,
   "source": [
    "# la variable a est-elle différenter de 5 ?\n",
    "a!=5"
   ],
   "outputs": [],
   "metadata": {}
  },
  {
   "cell_type": "markdown",
   "source": [
    "<BLOCKQUOTE style='background-color:#FFECCD;'>\n",
    "\n",
    "<h2 style=\"color:#DF8E21; font-size: 18px\"> Opérateurs logiques </h2>\n",
    "\n",
    "</BLOCKQUOTE>\n",
    "\n",
    "Ils permettent de mélanger différents tests ensembles.\n",
    "\n",
    "1. `and`: et\n",
    "2. `or` : ou\n",
    "3. `not` : négation"
   ],
   "metadata": {}
  },
  {
   "cell_type": "code",
   "execution_count": null,
   "source": [
    "a, b, c = 2, 3, 5\n",
    "a>b and a>c"
   ],
   "outputs": [],
   "metadata": {}
  },
  {
   "cell_type": "code",
   "execution_count": null,
   "source": [
    "a+b == c"
   ],
   "outputs": [],
   "metadata": {}
  },
  {
   "cell_type": "code",
   "execution_count": null,
   "source": [
    "(a>b and a>c) or (a+b == c)"
   ],
   "outputs": [],
   "metadata": {}
  },
  {
   "cell_type": "code",
   "execution_count": null,
   "source": [
    "not((a>b and a>c) or (a+b == c))"
   ],
   "outputs": [],
   "metadata": {}
  },
  {
   "cell_type": "markdown",
   "source": [
    "<BLOCKQUOTE style='background-color:#FFECCD;'>\n",
    "\n",
    "<h2 style=\"color:#DF8E21; font-size: 18px\"> Instructions conditionnelles\n",
    " </h2>\n",
    "\n",
    "</BLOCKQUOTE>\n",
    "\n",
    "\n",
    "C'est ainsi que l'on appelle les instructions du type \" si .... alors ....\"\n",
    "\n",
    "En python, les structures (boucles, if, fonctions, etc...) sont indiquées avec l'indentation. Il est donc primordial de respecter l'indentation lors de l'écriture d'un programme !!! \n",
    "\n",
    "La syntaxe en Python est la suivante :\n",
    "\n",
    "    if condition : # ne pas oublier le signe de ponctuation ':'\n",
    "        action\t# attention à l'indentation\n",
    "    suite du programme\n",
    "\n",
    "Si condition est vraie (True) alors l'action est exécutée.\n",
    "Si condition est fausse (False) on passe directement à la suite du programme.\n",
    "\n",
    "### Exemple :"
   ],
   "metadata": {}
  },
  {
   "cell_type": "code",
   "execution_count": null,
   "source": [
    "note=18\n",
    "if note>=15 :\n",
    "    print(\"Bravo\")"
   ],
   "outputs": [],
   "metadata": {}
  },
  {
   "cell_type": "code",
   "execution_count": null,
   "source": [
    "note = float(input(\"Note sur 20 : \"))\n",
    "if note >= 10.0:\n",
    "    print(\"J'ai la moyenne\")"
   ],
   "outputs": [],
   "metadata": {}
  },
  {
   "cell_type": "markdown",
   "source": [
    "On peut ajouter un bloc d'instruction à réaliser quand le test est faux :\n",
    "\n",
    "La syntaxe en Python est la suivante :\n",
    "\n",
    "    if condition:\t\n",
    "        action 1\t\t\n",
    "    else:                  \n",
    "        action 2\n",
    "    suite du programme\n",
    "\n",
    "Si conditon est vraie (True) alors l'action 1 est exécutée.\n",
    "Si condition est fausse (False) alors l'action 2  est exécutée.\n",
    "\n",
    "Attention aux décalages (indentations) et à ne pas oublier :\n",
    "\n",
    "### Exemples :\n"
   ],
   "metadata": {}
  },
  {
   "cell_type": "code",
   "execution_count": null,
   "source": [
    "note=12\n",
    "if note>=15 :\n",
    "    print(\"Bravo\")\n",
    "else :\n",
    "    print(\"Vous pouvez progresser\")"
   ],
   "outputs": [],
   "metadata": {}
  },
  {
   "cell_type": "code",
   "execution_count": null,
   "source": [
    "# La note est saisie par l'utilisateur\n",
    "note = float(input(\"Note sur 20 : \"))\n",
    "if note >= 10.0:\n",
    "    print(\"J'ai la moyenne\")\n",
    "else :\n",
    "    print(\"Je n'ai pas la moyenne\")"
   ],
   "outputs": [],
   "metadata": {
    "tags": []
   }
  },
  {
   "cell_type": "code",
   "execution_count": null,
   "source": [
    "num = int(input(\"Entrez un nombre\"))\n",
    "if num % 3 == 0 and num % 5 == 0:\n",
    "    print('FizzBuzz')\n",
    "elif num % 3 == 0:\n",
    "    print('Fizz')\n",
    "elif num % 5 == 0:\n",
    "    print('Buzz')\n",
    "else:\n",
    "    print(num)\n"
   ],
   "outputs": [],
   "metadata": {}
  },
  {
   "cell_type": "markdown",
   "source": [
    "### Exemple :\n",
    "\n",
    "Voici un pseudo code donnant l'état de l'eau suivant sa température :\n",
    "\n",
    "    Ecrire \"Entrez la température de l’eau :\"\n",
    "    Lire Temp\n",
    "    Si Temp < 0 Alors\n",
    "        Ecrire \"C’est de la glace\"\n",
    "    Sinon\n",
    "        Si Temp < 100 Alors\n",
    "        Ecrire \"C’est du liquide\"\n",
    "        Sinon\n",
    "            Ecrire \"C’est de la vapeur\"\n",
    "        Finsi\n",
    "    Finsi\n",
    "\n",
    "Le programme en Python est le suivant :"
   ],
   "metadata": {}
  },
  {
   "cell_type": "code",
   "execution_count": null,
   "source": [
    "temp = int(input(\"Entrez la température de l'eau\"))\n",
    "if temp<0 :\n",
    "    print(\"c'est de la glace\")\n",
    "else :\n",
    "    if temp<100 :\n",
    "        print(\"c'est du liquide\")\n",
    "    else :\n",
    "        print(\"c'est de la vapeur\")"
   ],
   "outputs": [],
   "metadata": {
    "tags": []
   }
  },
  {
   "cell_type": "markdown",
   "source": [
    "On peut également écrire l'algorithme sous cette forme :\n",
    "\n",
    "    Ecrire \"Entrez la température de l’eau :\"\n",
    "    Lire Temp\n",
    "    Si Temp < 0 Alors\n",
    "        Ecrire \"C’est de la glace\"\n",
    "    SinonSi Temp < 100 Alors\n",
    "        Ecrire \"C’est du liquide\"\n",
    "    Sinon\n",
    "        Ecrire \"C’est de la vapeur\"\n",
    "    Finsi\n",
    "\n",
    "Ce qui donne en Python le programme ci-dessous :"
   ],
   "metadata": {}
  },
  {
   "cell_type": "code",
   "execution_count": null,
   "source": [
    "temp = int(input(\"Entrez la température de l'eau\"))\n",
    "if temp<0 :\n",
    "    print(\"c'est de la glace\")\n",
    "elif temp<100 :\n",
    "    print(\"c'est du liquide\")\n",
    "else :\n",
    "    print(\"c'est de la vapeur\")"
   ],
   "outputs": [],
   "metadata": {
    "tags": []
   }
  },
  {
   "cell_type": "markdown",
   "source": [
    "### Exemple\n",
    "\n",
    "Une gérante de cantine demande combien de tickets le client veut acheter. Chaque ticket coûte 3,40 euro si le client a 12 ans ou moins de 12 ans, 4,20 euros si  le client a entre 13 et 17 ans, et 6,50 euros si le client a 18 ans ou plus. Complétez l'algorithme qui demande le nombre de tickets et l'âge à l’utilisateur, et l’informe ensuite du montant à payer"
   ],
   "metadata": {}
  },
  {
   "cell_type": "code",
   "execution_count": null,
   "source": [
    "nombre = int(input(\"Combien de tickets voulez vous ?\"))\n",
    "age = input(\"Quel est votre âge ?\")\n",
    "if .....\n"
   ],
   "outputs": [],
   "metadata": {}
  },
  {
   "cell_type": "markdown",
   "source": [
    "Compléter et tester votre algorithme"
   ],
   "metadata": {}
  },
  {
   "cell_type": "markdown",
   "source": [
    "<BLOCKQUOTE id=\"Boucles\" style='background-color:#DF8E21;'>\n",
    "\n",
    "<h1 style=\"color:#FFFFFF; font-size: 20px\"> 6. Les boucles </h1>\n",
    "\n",
    "</BLOCKQUOTE>\n",
    "\n",
    "\n",
    "On utilise des boucles pour répéter des instructions. Il existe deux types de boucle, suivant que le nombre de répétitions est connu (ou pas) à l'avance.\n",
    "\n",
    "<BLOCKQUOTE style='background-color:#FFECCD;'>\n",
    "\n",
    "<h2 style=\"color:#DF8E21; font-size: 18px\"> Les boucles définies (nombre de répétitions connu à l'avance).\n",
    " </h2>\n",
    "\n",
    "</BLOCKQUOTE>\n",
    "\n",
    "\n",
    "L'instruction Python est for\n"
   ],
   "metadata": {}
  },
  {
   "cell_type": "code",
   "execution_count": null,
   "source": [
    "for i in range(5):\n",
    "    print(i)"
   ],
   "outputs": [],
   "metadata": {}
  },
  {
   "cell_type": "code",
   "execution_count": null,
   "source": [
    "total = 2\n",
    "for i in range(5):\n",
    "    total = total + 1\n",
    "total"
   ],
   "outputs": [],
   "metadata": {}
  },
  {
   "cell_type": "code",
   "execution_count": null,
   "source": [
    "total = 2\n",
    "for i in range(5):\n",
    "    total = total + i\n",
    "total"
   ],
   "outputs": [],
   "metadata": {}
  },
  {
   "cell_type": "markdown",
   "source": [
    "Si on ne veut pas commencer la boucle à 2, on peut l'indiquer comme paramètre dans range :"
   ],
   "metadata": {}
  },
  {
   "cell_type": "code",
   "execution_count": null,
   "source": [
    "for i in range(2,5):\n",
    "    print(i)"
   ],
   "outputs": [],
   "metadata": {}
  },
  {
   "cell_type": "markdown",
   "source": [
    "Remarquez que la dernière valeur affichée est 4 et non pas 5"
   ],
   "metadata": {}
  },
  {
   "cell_type": "markdown",
   "source": [
    "Si l'on souhaire que l'écart entre les valeurs ne soit pas de 1, c'est possible aussi :"
   ],
   "metadata": {}
  },
  {
   "cell_type": "code",
   "execution_count": null,
   "source": [
    "for i in range(1,10,2):\n",
    "    print(i)"
   ],
   "outputs": [],
   "metadata": {}
  },
  {
   "cell_type": "code",
   "execution_count": null,
   "source": [
    "for i in range(5,2,-1):\n",
    "    print(i)"
   ],
   "outputs": [],
   "metadata": {}
  },
  {
   "cell_type": "markdown",
   "source": [
    "<BLOCKQUOTE style='background-color:#FFECCD;'>\n",
    "\n",
    "<h2 style=\"color:#DF8E21; font-size: 18px\"> Les boucles indéfinies (le nombre de répétitions n'est pas connu à l'avance).\n",
    "\n",
    "</h2>\n",
    "\n",
    "</BLOCKQUOTE> \n",
    "\n",
    "L'instruction Python est `while` (tant que)"
   ],
   "metadata": {}
  },
  {
   "cell_type": "code",
   "execution_count": null,
   "source": [
    "n=2\n",
    "while n<100 :\n",
    "    print(n)\n",
    "    n=2*n"
   ],
   "outputs": [],
   "metadata": {}
  },
  {
   "cell_type": "markdown",
   "source": [
    "<BLOCKQUOTE id=\"Fonctions\" style='background-color:#DF8E21;'>\n",
    "\n",
    "<h1 style=\"color:#FFFFFF; font-size: 20px\"> 7. Les fonctions </h1>\n",
    "\n",
    "</BLOCKQUOTE>\n",
    "\n",
    "\n",
    "\n",
    "En programmation, les fonctions sont très utiles pour réaliser plusieurs fois la même opération au sein d'un programme.\n",
    "\n",
    "Elles rendent également le code plus lisible et plus clair en le fractionnant en blocs logiques.\n",
    "\n",
    "Pour définir une fonction, Python utilise le mot-clé *def*. Si on souhaite que la fonction renvoie quelque chose, il faut utiliser le mot-clé *return*.\n",
    "\n",
    "### Exemple :\n"
   ],
   "metadata": {}
  },
  {
   "cell_type": "code",
   "execution_count": null,
   "source": [
    "def carre(x):\n",
    "    return x**2\n",
    "\n",
    "print(carre(3))"
   ],
   "outputs": [],
   "metadata": {
    "tags": []
   }
  },
  {
   "cell_type": "markdown",
   "source": [
    "Vous pouvez tester alors d'autres valeurs :"
   ],
   "metadata": {}
  },
  {
   "cell_type": "code",
   "execution_count": null,
   "source": [
    "carre(5)"
   ],
   "outputs": [],
   "metadata": {}
  },
  {
   "cell_type": "code",
   "execution_count": null,
   "source": [
    "carre(7)"
   ],
   "outputs": [],
   "metadata": {}
  },
  {
   "cell_type": "markdown",
   "source": [
    "Une fonction peut avoir plusieurs arguments. Par exemple :\n",
    "\n",
    "### Exemples"
   ],
   "metadata": {}
  },
  {
   "cell_type": "code",
   "execution_count": null,
   "source": [
    "# la fonction renvoie l'aire d'un rectangle en fonction de ses dimensions\n",
    "def aire_rectangle(longueur, largeur):\n",
    "    return longueur*largeur\n",
    "\n",
    "aire_rectangle(8,5)"
   ],
   "outputs": [],
   "metadata": {}
  },
  {
   "cell_type": "code",
   "execution_count": null,
   "source": [
    "# la fonction renvoie le plus grand de des deux nombres\n",
    "def plusgrand(x,y):\n",
    "    if x>y:\n",
    "        return x\n",
    "    else :\n",
    "        return y"
   ],
   "outputs": [],
   "metadata": {}
  },
  {
   "cell_type": "code",
   "execution_count": null,
   "source": [
    "plusgrand(2,3)"
   ],
   "outputs": [],
   "metadata": {}
  },
  {
   "cell_type": "code",
   "execution_count": null,
   "source": [
    "plusgrand(5,1)"
   ],
   "outputs": [],
   "metadata": {}
  },
  {
   "cell_type": "markdown",
   "source": [
    "### Exemple\n",
    "\n",
    "Un magasin de reprographie propose un tarif dégressif (c'est à dire que plus on commande de photocopies, plus le prix unitaire est faible). \n",
    "Les 20 premières photocopies sont facturées à 10 centimes et les suivantes\n",
    "à 8 centimes.\n",
    "\n",
    "1. Quel est le coût en euros de 15 photocopies ?\n",
    "2. Quel est le coût en euros de 30 photocopies ?"
   ],
   "metadata": {}
  },
  {
   "cell_type": "markdown",
   "source": [
    "Compléter l'algorithme suivant qui permet d'afficher le prix de *n* photocopies"
   ],
   "metadata": {}
  },
  {
   "cell_type": "code",
   "execution_count": null,
   "source": [
    "def tarif(n):"
   ],
   "outputs": [],
   "metadata": {}
  },
  {
   "cell_type": "code",
   "execution_count": null,
   "source": [
    "# Tester votre algorithme avec 15\n",
    "tarif(15)"
   ],
   "outputs": [],
   "metadata": {}
  },
  {
   "cell_type": "code",
   "execution_count": null,
   "source": [
    "# Tester votre algorithme avec 30 :"
   ],
   "outputs": [],
   "metadata": {}
  },
  {
   "cell_type": "markdown",
   "source": [
    "### Exemple\n",
    "\n",
    "L'IMC (Indice de masse corporelle) permet de determiner la corpulence d'une personne. Il se calcule en fonction de la taille (en m) et du poids (en kg) d'une personne par la formule :\n",
    "$$IMC=\\frac{\\text{poids}}{\\text{taille}^2}$$\n",
    "\n",
    "Par exemple, quel est l'IMC d'une personne mesurant 1,70 m pour un poids de 60 kg ? (On rappelle que le carré se calcule avec **2)"
   ],
   "metadata": {}
  },
  {
   "cell_type": "code",
   "execution_count": null,
   "source": [],
   "outputs": [],
   "metadata": {}
  },
  {
   "cell_type": "markdown",
   "source": [
    "Ecrire un algorithme qui renvoie l'IMC d'une personne en fonction de sa taille et de son poids. On rappelle que le carré se calcule avec **2"
   ],
   "metadata": {}
  },
  {
   "cell_type": "code",
   "execution_count": null,
   "source": [
    "def IMC(poids,taille):"
   ],
   "outputs": [],
   "metadata": {}
  },
  {
   "cell_type": "markdown",
   "source": [
    "Tester votre algorithme pour une personne mesurant 1,70 m pour un poids de 60 kg"
   ],
   "metadata": {}
  },
  {
   "cell_type": "code",
   "execution_count": null,
   "source": [],
   "outputs": [],
   "metadata": {}
  },
  {
   "cell_type": "markdown",
   "source": [
    "<BLOCKQUOTE id=\"Listes\" style='background-color:#DF8E21;'>\n",
    "\n",
    "<h1 style=\"color:#FFFFFF; font-size: 20px\"> 8. Les listes </h1>\n",
    "\n",
    "</BLOCKQUOTE>\n",
    "\n",
    "Une liste est une collection d'objets. Cela peut être par exemple : une liste de notes, une liste avec les températures annuelles moyennes...\n",
    "\n",
    "Les listes sont écrites entre des parenthèses rectangulaire [ ]"
   ],
   "metadata": {}
  },
  {
   "cell_type": "code",
   "execution_count": null,
   "source": [
    "# Définir une liste\n",
    "liste = [3, 7, 4, 2]\n",
    "liste"
   ],
   "outputs": [],
   "metadata": {}
  },
  {
   "cell_type": "markdown",
   "source": [
    "<BLOCKQUOTE style='background-color:#FFECCD;'>\n",
    "\n",
    "<h2 style=\"color:#DF8E21; font-size: 18px\"> Accéder aux éléments d'une liste\n",
    "</h2>\n",
    "\n",
    "</BLOCKQUOTE>\n",
    "\n",
    "Chaque élément de la liste correspond à un indice ; le premier élément de la liste a pour indice 0\n",
    "\n",
    "| |  |  |  | |\n",
    "|-|-|-|-|-|\n",
    "|liste =| [3, | 7, | 4, | 2]|\n",
    "|indice |   0  | 1  | 2  | 3|"
   ],
   "metadata": {}
  },
  {
   "cell_type": "code",
   "execution_count": null,
   "source": [
    "# Le premier élément de la liste a pour indice 0\n",
    "liste[0]"
   ],
   "outputs": [],
   "metadata": {}
  },
  {
   "cell_type": "code",
   "execution_count": null,
   "source": [
    "# On accède au troisième élément de la liste :\n",
    "liste[2]"
   ],
   "outputs": [],
   "metadata": {}
  },
  {
   "cell_type": "markdown",
   "source": [
    "<BLOCKQUOTE style='background-color:#FFECCD;'>\n",
    "\n",
    "<h2 style=\"color:#DF8E21; font-size: 18px\"> Minimum, maximum, longueur d'une liste\n",
    "</h2>\n",
    "\n",
    "</BLOCKQUOTE> "
   ],
   "metadata": {}
  },
  {
   "cell_type": "code",
   "execution_count": null,
   "source": [
    "min(liste)"
   ],
   "outputs": [],
   "metadata": {}
  },
  {
   "cell_type": "code",
   "execution_count": null,
   "source": [
    "max(liste)"
   ],
   "outputs": [],
   "metadata": {}
  },
  {
   "cell_type": "code",
   "execution_count": null,
   "source": [
    "# nombre d'éléments (len signifie length)\n",
    "len(liste)"
   ],
   "outputs": [],
   "metadata": {}
  },
  {
   "cell_type": "code",
   "execution_count": null,
   "source": [
    "# compter combien de fois un élément est dans une liste \n",
    "liste = [4, 1, 5, 4, 10, 4]\n",
    "liste.count(4)"
   ],
   "outputs": [],
   "metadata": {}
  },
  {
   "cell_type": "markdown",
   "source": [
    "<BLOCKQUOTE style='background-color:#FFECCD;'>\n",
    "\n",
    "<h2 style=\"color:#DF8E21; font-size: 18px\"> Tri d'une liste\n",
    "\n",
    "</h2>\n",
    "\n",
    "</BLOCKQUOTE> \n",
    "\n",
    "Le tri se fait avec la méthode `.sort()`\n",
    "\n",
    "Exemple :"
   ],
   "metadata": {}
  },
  {
   "cell_type": "code",
   "execution_count": null,
   "source": [
    "notes=[9,13,8,20,19]\n",
    "notes"
   ],
   "outputs": [],
   "metadata": {}
  },
  {
   "cell_type": "code",
   "execution_count": null,
   "source": [
    "notes.sort()\n",
    "notes"
   ],
   "outputs": [],
   "metadata": {}
  }
 ]
}